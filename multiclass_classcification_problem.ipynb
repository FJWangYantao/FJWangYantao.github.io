{
  "nbformat": 4,
  "nbformat_minor": 0,
  "metadata": {
    "colab": {
      "provenance": [],
      "authorship_tag": "ABX9TyN0Es8SeQAY1e+5UU0dn/sk",
      "include_colab_link": true
    },
    "kernelspec": {
      "name": "python3",
      "display_name": "Python 3"
    },
    "language_info": {
      "name": "python"
    }
  },
  "cells": [
    {
      "cell_type": "markdown",
      "metadata": {
        "id": "view-in-github",
        "colab_type": "text"
      },
      "source": [
        "<a href=\"https://colab.research.google.com/github/FJWangYantao/FJWangYantao.github.io/blob/main/multiclass_classcification_problem.ipynb\" target=\"_parent\"><img src=\"https://colab.research.google.com/assets/colab-badge.svg\" alt=\"Open In Colab\"/></a>"
      ]
    },
    {
      "cell_type": "code",
      "execution_count": null,
      "metadata": {
        "colab": {
          "base_uri": "https://localhost:8080/"
        },
        "id": "r0PMV5I_K5-I",
        "outputId": "5580f877-1308-4a19-e20b-2e7d07a07c55"
      },
      "outputs": [
        {
          "output_type": "stream",
          "name": "stdout",
          "text": [
            "Downloading data from https://storage.googleapis.com/tensorflow/tf-keras-datasets/reuters.npz\n",
            "2110848/2110848 [==============================] - 0s 0us/step\n"
          ]
        }
      ],
      "source": [
        "from tensorflow.keras.datasets import reuters\n",
        "(train_data,train_labels),(test_data,test_labels) = reuters.load_data(num_words=10000)"
      ]
    },
    {
      "cell_type": "code",
      "source": [
        "train_labels[0]"
      ],
      "metadata": {
        "colab": {
          "base_uri": "https://localhost:8080/"
        },
        "id": "6YeGtwpGLngE",
        "outputId": "7649d0c6-ba8a-40d4-d841-d1adbecc8cfa"
      },
      "execution_count": 17,
      "outputs": [
        {
          "output_type": "execute_result",
          "data": {
            "text/plain": [
              "3"
            ]
          },
          "metadata": {},
          "execution_count": 17
        }
      ]
    },
    {
      "cell_type": "code",
      "source": [
        "word_index=reuters.get_word_index()\n",
        "reverse_word_index=dict([(value,key) for (key,value) in word_index.items()])\n",
        "decoded_newswire=\" \".join([reverse_word_index.get(i-3,\"?\") for i in train_data[0]])"
      ],
      "metadata": {
        "colab": {
          "base_uri": "https://localhost:8080/",
          "height": 53
        },
        "id": "S3HLn0EmLyRy",
        "outputId": "31fd93d9-3ab7-4d6a-a995-db10d035477b"
      },
      "execution_count": null,
      "outputs": [
        {
          "output_type": "execute_result",
          "data": {
            "text/plain": [
              "'? ? ? said as a result of its december acquisition of space co it expects earnings per share in 1987 of 1 15 to 1 30 dlrs per share up from 70 cts in 1986 the company said pretax net should rise to nine to 10 mln dlrs from six mln dlrs in 1986 and rental operation revenues to 19 to 22 mln dlrs from 12 5 mln dlrs it said cash flow per share this year should be 2 50 to three dlrs reuter 3'"
            ],
            "application/vnd.google.colaboratory.intrinsic+json": {
              "type": "string"
            }
          },
          "metadata": {},
          "execution_count": 12
        }
      ]
    },
    {
      "cell_type": "code",
      "source": [
        "import numpy as np\n",
        "def vectorize_sequences(sequences,dimension=10000):\n",
        "  results = np.zeros((len(sequences),dimension))#创建一个形状为(len(sequences),dimension)的零矩阵\n",
        "  for i,sequence in enumerate(sequences):\n",
        "    for j in sequence:\n",
        "      results[i,j]=1.#将results[i]的某些值初始化为1\n",
        "  return results\n",
        "x_train=vectorize_sequences(train_data)\n",
        "x_test=vectorize_sequences(test_data)"
      ],
      "metadata": {
        "id": "L5uz5OHANtkg"
      },
      "execution_count": 15,
      "outputs": []
    },
    {
      "cell_type": "code",
      "source": [
        "def to_one_hot(labels,dimension=46):\n",
        "  results=np.zeros((len(labels),dimension))\n",
        "  for i,label in enumerate(labels):\n",
        "    results[i,label] = 1.\n",
        "  return results\n",
        "\n",
        "y_train=to_one_hot(train_labels)\n",
        "y_test=to_one_hot(test_labels)\n",
        "\n",
        "#也可以使用Keras的内置方法\n",
        "#from tensorflow.keras.utils import to_categorical\n",
        "#y_train = to_categorical(train_labels)\n",
        "#y_test = to_categorical(train_labels)"
      ],
      "metadata": {
        "id": "WSTz9oHQOp_C"
      },
      "execution_count": 20,
      "outputs": []
    },
    {
      "cell_type": "code",
      "source": [
        "from tensorflow import keras\n",
        "from tensorflow.keras import layers\n",
        "model = keras.Sequential([\n",
        "    layers.Dense(64,activation=\"relu\"),\n",
        "    layers.Dense(64,activation=\"relu\"),\n",
        "    layers.Dense(46,activation=\"softmax\")\n",
        "])"
      ],
      "metadata": {
        "id": "RCyTKdRgQOm2"
      },
      "execution_count": 23,
      "outputs": []
    },
    {
      "cell_type": "code",
      "source": [
        "model.compile(optimizer=\"rmsprop\",\n",
        "      loss=\"categorical_crossentropy\",\n",
        "      metrics=[\"accuracy\"])"
      ],
      "metadata": {
        "id": "xbiLN0uiRTet"
      },
      "execution_count": 25,
      "outputs": []
    },
    {
      "cell_type": "code",
      "source": [
        "x_val = x_train[:1000]\n",
        "partial_x_train = x_train[1000:]\n",
        "y_val = y_train[:1000]\n",
        "partial_y_train = y_train[1000:]"
      ],
      "metadata": {
        "id": "aDHB9gk4RhkM"
      },
      "execution_count": 26,
      "outputs": []
    },
    {
      "cell_type": "code",
      "source": [
        "history=model.fit(\n",
        "    partial_x_train,\n",
        "    partial_y_train,\n",
        "    epochs=20,\n",
        "    batch_size=512,\n",
        "    validation_data=(x_val,y_val)\n",
        ")"
      ],
      "metadata": {
        "colab": {
          "base_uri": "https://localhost:8080/"
        },
        "id": "r1-NIqxjRztr",
        "outputId": "cc5a90b2-de7f-453e-997a-f79af390ed59"
      },
      "execution_count": 29,
      "outputs": [
        {
          "output_type": "stream",
          "name": "stdout",
          "text": [
            "Epoch 1/20\n",
            "16/16 [==============================] - 5s 242ms/step - loss: 2.7855 - accuracy: 0.4979 - val_loss: 1.8739 - val_accuracy: 0.6070\n",
            "Epoch 2/20\n",
            "16/16 [==============================] - 1s 83ms/step - loss: 1.5656 - accuracy: 0.6616 - val_loss: 1.3922 - val_accuracy: 0.6780\n",
            "Epoch 3/20\n",
            "16/16 [==============================] - 1s 94ms/step - loss: 1.2005 - accuracy: 0.7423 - val_loss: 1.2297 - val_accuracy: 0.7240\n",
            "Epoch 4/20\n",
            "16/16 [==============================] - 2s 108ms/step - loss: 0.9838 - accuracy: 0.7909 - val_loss: 1.1127 - val_accuracy: 0.7560\n",
            "Epoch 5/20\n",
            "16/16 [==============================] - 1s 91ms/step - loss: 0.8254 - accuracy: 0.8222 - val_loss: 1.0119 - val_accuracy: 0.7890\n",
            "Epoch 6/20\n",
            "16/16 [==============================] - 1s 54ms/step - loss: 0.6866 - accuracy: 0.8555 - val_loss: 0.9571 - val_accuracy: 0.7980\n",
            "Epoch 7/20\n",
            "16/16 [==============================] - 1s 54ms/step - loss: 0.5758 - accuracy: 0.8781 - val_loss: 0.9252 - val_accuracy: 0.8010\n",
            "Epoch 8/20\n",
            "16/16 [==============================] - 1s 56ms/step - loss: 0.4805 - accuracy: 0.8983 - val_loss: 0.8993 - val_accuracy: 0.8070\n",
            "Epoch 9/20\n",
            "16/16 [==============================] - 1s 57ms/step - loss: 0.4111 - accuracy: 0.9112 - val_loss: 0.8829 - val_accuracy: 0.8150\n",
            "Epoch 10/20\n",
            "16/16 [==============================] - 1s 74ms/step - loss: 0.3479 - accuracy: 0.9247 - val_loss: 0.8893 - val_accuracy: 0.8090\n",
            "Epoch 11/20\n",
            "16/16 [==============================] - 1s 77ms/step - loss: 0.3056 - accuracy: 0.9313 - val_loss: 0.8770 - val_accuracy: 0.8150\n",
            "Epoch 12/20\n",
            "16/16 [==============================] - 1s 73ms/step - loss: 0.2636 - accuracy: 0.9397 - val_loss: 0.9243 - val_accuracy: 0.8020\n",
            "Epoch 13/20\n",
            "16/16 [==============================] - 1s 50ms/step - loss: 0.2389 - accuracy: 0.9440 - val_loss: 0.9369 - val_accuracy: 0.8040\n",
            "Epoch 14/20\n",
            "16/16 [==============================] - 1s 51ms/step - loss: 0.2108 - accuracy: 0.9483 - val_loss: 0.9092 - val_accuracy: 0.8080\n",
            "Epoch 15/20\n",
            "16/16 [==============================] - 1s 46ms/step - loss: 0.1933 - accuracy: 0.9509 - val_loss: 0.8979 - val_accuracy: 0.8100\n",
            "Epoch 16/20\n",
            "16/16 [==============================] - 1s 46ms/step - loss: 0.1782 - accuracy: 0.9508 - val_loss: 0.9010 - val_accuracy: 0.8150\n",
            "Epoch 17/20\n",
            "16/16 [==============================] - 1s 50ms/step - loss: 0.1653 - accuracy: 0.9543 - val_loss: 0.9606 - val_accuracy: 0.7950\n",
            "Epoch 18/20\n",
            "16/16 [==============================] - 1s 45ms/step - loss: 0.1570 - accuracy: 0.9531 - val_loss: 0.9335 - val_accuracy: 0.8190\n",
            "Epoch 19/20\n",
            "16/16 [==============================] - 1s 47ms/step - loss: 0.1452 - accuracy: 0.9567 - val_loss: 0.9450 - val_accuracy: 0.8070\n",
            "Epoch 20/20\n",
            "16/16 [==============================] - 1s 52ms/step - loss: 0.1371 - accuracy: 0.9563 - val_loss: 0.9425 - val_accuracy: 0.8180\n"
          ]
        }
      ]
    },
    {
      "cell_type": "code",
      "source": [],
      "metadata": {
        "id": "WxCREUpTSWWl"
      },
      "execution_count": null,
      "outputs": []
    }
  ]
}