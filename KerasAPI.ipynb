{
  "nbformat": 4,
  "nbformat_minor": 0,
  "metadata": {
    "colab": {
      "provenance": [],
      "authorship_tag": "ABX9TyNN4Alpf/GvPeX5z4AtWin7",
      "include_colab_link": true
    },
    "kernelspec": {
      "name": "python3",
      "display_name": "Python 3"
    },
    "language_info": {
      "name": "python"
    }
  },
  "cells": [
    {
      "cell_type": "markdown",
      "metadata": {
        "id": "view-in-github",
        "colab_type": "text"
      },
      "source": [
        "<a href=\"https://colab.research.google.com/github/FJWangYantao/FJWangYantao.github.io/blob/main/KerasAPI.ipynb\" target=\"_parent\"><img src=\"https://colab.research.google.com/assets/colab-badge.svg\" alt=\"Open In Colab\"/></a>"
      ]
    },
    {
      "cell_type": "code",
      "execution_count": null,
      "metadata": {
        "id": "oj5mP9RHsNd1"
      },
      "outputs": [],
      "source": [
        "from tensorflow import keras\n",
        "\n",
        "class SimpleDense(keras.layers.Layer):#构造一个Dense层\n",
        "  def __init__(self,units,activation=None):\n",
        "    super().__init__()\n",
        "    self.units=units #输出单元数\n",
        "    self.activation=activation\n",
        "\n",
        "  def build(self,input_shape):\n",
        "    input_dim=input_shape[-1]#获取输入张量的最后一个维度，即输入的特征数\n",
        "    #快速初始化W和b\n",
        "    self.W=self.add_weight(shape=(input_dim,self.units),initializer=\"random_normal\")\n",
        "    self.b=self.add_weight(shape=(self.units,),initializer=\"zeros\")\n",
        "\n",
        "  def call(self,inputs):\n",
        "    y = tf.matmul(inputs,self.W)+self.b\n",
        "    if self.activation is not None:\n",
        "      y = self.activation(y)\n",
        "    return y"
      ]
    },
    {
      "cell_type": "code",
      "source": [
        "import tensorflow as tf\n",
        "my_dense = SimpleDense(units=32,activation=tf.nn.relu)\n",
        "input_tensor=tf.ones(shape=(2,784))\n",
        "output_tensor=my_dense(input_tensor)\n",
        "output_tensor.shape #自动检测输出的形状"
      ],
      "metadata": {
        "colab": {
          "base_uri": "https://localhost:8080/"
        },
        "id": "J9WKxN1VuNZo",
        "outputId": "1900dd42-2ab8-47cd-cdea-5db88ea72ec9"
      },
      "execution_count": null,
      "outputs": [
        {
          "output_type": "execute_result",
          "data": {
            "text/plain": [
              "TensorShape([2, 32])"
            ]
          },
          "metadata": {},
          "execution_count": 2
        }
      ]
    },
    {
      "cell_type": "code",
      "source": [
        "from tensorflow.keras import layers\n",
        "from tensorflow.keras import models\n",
        "layer = layers.Dense(32,activation=\"relu\")\n",
        "model = models.Sequential([\n",
        "    layers.Dense(32,activation=\"relu\"),\n",
        "    layers.Dense(32)\n",
        "])#用Sequential简单堆叠两个Dense层"
      ],
      "metadata": {
        "id": "ftBu5jigvBsh"
      },
      "execution_count": null,
      "outputs": []
    },
    {
      "cell_type": "code",
      "source": [
        "# import numpy as np\n",
        "# model = keras.Sequential([keras.layers.Dense(1)])\n",
        "# model.compile(optimizer=keras.optimizers.RMSprop(learning_rate=0.1),\n",
        "#               loss=keras.losses.MeanSquaredError(),\n",
        "#               metrics=[keras.metrics.BinaryAccuracy()])\n",
        "\n",
        "# indices_permutation=np.random.permutation(len(inputs))\n",
        "# shuffled_inputs = inputs[indices_permutation]\n",
        "# shuffled_targets = targets[indices_permutation]\n",
        "\n",
        "# num_validation_samples = int(0.3*len(inputs))\n",
        "# val_inputs = shuffled_inputs[:num_validation_samples]\n",
        "# val_targets = shuffled_targets[:num_validation_samples]\n",
        "# training_inputs = shuffled_inputs[num_validation_samples:]\n",
        "# training_targets = shuffled_targets[num_validation_samples:]\n",
        "# model.fit(\n",
        "#     training_inputs,\n",
        "#     training_targets,\n",
        "#     epochs=5,\n",
        "#     batch_size=16\n",
        "#     validation_data(val_inputs,val_targets)\n",
        "# )"
      ],
      "metadata": {
        "id": "DQW1IInyyivx"
      },
      "execution_count": null,
      "outputs": []
    },
    {
      "cell_type": "code",
      "source": [],
      "metadata": {
        "id": "GBDjBSGo1A0E"
      },
      "execution_count": null,
      "outputs": []
    }
  ]
}